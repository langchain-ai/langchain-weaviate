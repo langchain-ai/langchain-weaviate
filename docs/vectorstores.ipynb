{
 "cells": [
  {
   "cell_type": "raw",
   "id": "1957f5cb",
   "metadata": {},
   "source": [
    "---\n",
    "sidebar_label: Weaviate\n",
    "---"
   ]
  },
  {
   "cell_type": "markdown",
   "id": "ef1f0986",
   "metadata": {},
   "source": [
    "# Weaviate\n",
    "\n",
    "This notebook covers how to get started with the Weaviate vector store.\n",
    "\n",
    ">[Weaviate](https://weaviate.io/) is an open-source vector database. It allows you to store data objects and vector embeddings from your favorite ML-models, and scale seamlessly into billions of data objects.\n",
    "\n",
    "This notebook shows how to use the functionality related to the `Weaviate` vector database.\n",
    "\n",
    "`Weaviate` can be deployed in many different ways depending on your requirements. For example, you can either connect to a [Weaviate Cloud Services](https://console.weaviate.cloud) instance or a [local Docker instance](https://weaviate.io/developers/weaviate/installation/docker-compose). \n",
    "See the `Weaviate` [installation instructions](https://weaviate.io/developers/weaviate/installation) for more information.\n",
    "\n",
    "## Installation"
   ]
  },
  {
   "cell_type": "code",
   "execution_count": 1,
   "id": "d97b55c2",
   "metadata": {},
   "outputs": [
    {
     "name": "stdout",
     "output_type": "stream",
     "text": [
      "Requirement already satisfied: langchain-weaviate in /workspaces/langchain-weaviate/.venv/lib/python3.12/site-packages (0.0.1)\n",
      "Requirement already satisfied: langchain-core>=0.0.12 in /workspaces/langchain-weaviate/.venv/lib/python3.12/site-packages (from langchain-weaviate) (0.1.1)\n",
      "Requirement already satisfied: numpy<2.0.0,>=1.26.2 in /workspaces/langchain-weaviate/.venv/lib/python3.12/site-packages (from langchain-weaviate) (1.26.2)\n",
      "Requirement already satisfied: simsimd<4.0.0,>=3.6.1 in /workspaces/langchain-weaviate/.venv/lib/python3.12/site-packages (from langchain-weaviate) (3.6.1)\n",
      "Requirement already satisfied: weaviate-client<4.0.0,>=3.25.3 in /workspaces/langchain-weaviate/.venv/lib/python3.12/site-packages (from langchain-weaviate) (3.25.3)\n",
      "Requirement already satisfied: PyYAML>=5.3 in /workspaces/langchain-weaviate/.venv/lib/python3.12/site-packages (from langchain-core>=0.0.12->langchain-weaviate) (6.0.1)\n",
      "Requirement already satisfied: anyio<5,>=3 in /workspaces/langchain-weaviate/.venv/lib/python3.12/site-packages (from langchain-core>=0.0.12->langchain-weaviate) (4.2.0)\n",
      "Requirement already satisfied: jsonpatch<2.0,>=1.33 in /workspaces/langchain-weaviate/.venv/lib/python3.12/site-packages (from langchain-core>=0.0.12->langchain-weaviate) (1.33)\n",
      "Requirement already satisfied: langsmith<0.1.0,>=0.0.63 in /workspaces/langchain-weaviate/.venv/lib/python3.12/site-packages (from langchain-core>=0.0.12->langchain-weaviate) (0.0.72)\n",
      "Requirement already satisfied: packaging<24.0,>=23.2 in /workspaces/langchain-weaviate/.venv/lib/python3.12/site-packages (from langchain-core>=0.0.12->langchain-weaviate) (23.2)\n",
      "Requirement already satisfied: pydantic<3,>=1 in /workspaces/langchain-weaviate/.venv/lib/python3.12/site-packages (from langchain-core>=0.0.12->langchain-weaviate) (2.5.2)\n",
      "Requirement already satisfied: requests<3,>=2 in /workspaces/langchain-weaviate/.venv/lib/python3.12/site-packages (from langchain-core>=0.0.12->langchain-weaviate) (2.31.0)\n",
      "Requirement already satisfied: tenacity<9.0.0,>=8.1.0 in /workspaces/langchain-weaviate/.venv/lib/python3.12/site-packages (from langchain-core>=0.0.12->langchain-weaviate) (8.2.3)\n",
      "Requirement already satisfied: validators<1.0.0,>=0.21.2 in /workspaces/langchain-weaviate/.venv/lib/python3.12/site-packages (from weaviate-client<4.0.0,>=3.25.3->langchain-weaviate) (0.22.0)\n",
      "Requirement already satisfied: authlib<2.0.0,>=1.2.1 in /workspaces/langchain-weaviate/.venv/lib/python3.12/site-packages (from weaviate-client<4.0.0,>=3.25.3->langchain-weaviate) (1.3.0)\n",
      "Requirement already satisfied: idna>=2.8 in /workspaces/langchain-weaviate/.venv/lib/python3.12/site-packages (from anyio<5,>=3->langchain-core>=0.0.12->langchain-weaviate) (3.6)\n",
      "Requirement already satisfied: sniffio>=1.1 in /workspaces/langchain-weaviate/.venv/lib/python3.12/site-packages (from anyio<5,>=3->langchain-core>=0.0.12->langchain-weaviate) (1.3.0)\n",
      "Requirement already satisfied: cryptography in /workspaces/langchain-weaviate/.venv/lib/python3.12/site-packages (from authlib<2.0.0,>=1.2.1->weaviate-client<4.0.0,>=3.25.3->langchain-weaviate) (41.0.7)\n",
      "Requirement already satisfied: jsonpointer>=1.9 in /workspaces/langchain-weaviate/.venv/lib/python3.12/site-packages (from jsonpatch<2.0,>=1.33->langchain-core>=0.0.12->langchain-weaviate) (2.4)\n",
      "Requirement already satisfied: annotated-types>=0.4.0 in /workspaces/langchain-weaviate/.venv/lib/python3.12/site-packages (from pydantic<3,>=1->langchain-core>=0.0.12->langchain-weaviate) (0.6.0)\n",
      "Requirement already satisfied: pydantic-core==2.14.5 in /workspaces/langchain-weaviate/.venv/lib/python3.12/site-packages (from pydantic<3,>=1->langchain-core>=0.0.12->langchain-weaviate) (2.14.5)\n",
      "Requirement already satisfied: typing-extensions>=4.6.1 in /workspaces/langchain-weaviate/.venv/lib/python3.12/site-packages (from pydantic<3,>=1->langchain-core>=0.0.12->langchain-weaviate) (4.9.0)\n",
      "Requirement already satisfied: charset-normalizer<4,>=2 in /workspaces/langchain-weaviate/.venv/lib/python3.12/site-packages (from requests<3,>=2->langchain-core>=0.0.12->langchain-weaviate) (3.3.2)\n",
      "Requirement already satisfied: urllib3<3,>=1.21.1 in /workspaces/langchain-weaviate/.venv/lib/python3.12/site-packages (from requests<3,>=2->langchain-core>=0.0.12->langchain-weaviate) (2.1.0)\n",
      "Requirement already satisfied: certifi>=2017.4.17 in /workspaces/langchain-weaviate/.venv/lib/python3.12/site-packages (from requests<3,>=2->langchain-core>=0.0.12->langchain-weaviate) (2023.11.17)\n",
      "Requirement already satisfied: cffi>=1.12 in /workspaces/langchain-weaviate/.venv/lib/python3.12/site-packages (from cryptography->authlib<2.0.0,>=1.2.1->weaviate-client<4.0.0,>=3.25.3->langchain-weaviate) (1.16.0)\n",
      "Requirement already satisfied: pycparser in /workspaces/langchain-weaviate/.venv/lib/python3.12/site-packages (from cffi>=1.12->cryptography->authlib<2.0.0,>=1.2.1->weaviate-client<4.0.0,>=3.25.3->langchain-weaviate) (2.21)\n",
      "\n",
      "\u001b[1m[\u001b[0m\u001b[34;49mnotice\u001b[0m\u001b[1;39;49m]\u001b[0m\u001b[39;49m A new release of pip is available: \u001b[0m\u001b[31;49m23.3.1\u001b[0m\u001b[39;49m -> \u001b[0m\u001b[32;49m23.3.2\u001b[0m\n",
      "\u001b[1m[\u001b[0m\u001b[34;49mnotice\u001b[0m\u001b[1;39;49m]\u001b[0m\u001b[39;49m To update, run: \u001b[0m\u001b[32;49mpip install --upgrade pip\u001b[0m\n",
      "Note: you may need to restart the kernel to use updated packages.\n"
     ]
    }
   ],
   "source": [
    "# install package\n",
    "%pip install -U langchain-weaviate"
   ]
  },
  {
   "cell_type": "markdown",
   "id": "36fdc060",
   "metadata": {},
   "source": [
    "## Environment Setup\n",
    "\n",
    "This example assumes you have a local weaviate instance setup and running on at `http://localhost:8080`.\n",
    "\n"
   ]
  },
  {
   "cell_type": "markdown",
   "id": "7be3a634",
   "metadata": {},
   "source": [
    "We want to use `OpenAIEmbeddings` so we have to an Open AI API key and store it in the environment variable `OPENAI_API_KEY`.\n"
   ]
  },
  {
   "cell_type": "markdown",
   "id": "a8e3a83f",
   "metadata": {},
   "source": [
    "## Usage"
   ]
  },
  {
   "cell_type": "markdown",
   "id": "6efee7cd",
   "metadata": {},
   "source": [
    "## Similarity Search"
   ]
  },
  {
   "cell_type": "markdown",
   "id": "dc37144c-208d-4ab3-9f3a-0407a69fe052",
   "metadata": {
    "tags": []
   },
   "source": [
    "Below you can see a minimal example of how to approach a simple similarity search."
   ]
  },
  {
   "cell_type": "code",
   "execution_count": 2,
   "id": "9d0ab00c",
   "metadata": {},
   "outputs": [],
   "source": [
    "from langchain_community.document_loaders import TextLoader\n",
    "from langchain_community.embeddings.openai import OpenAIEmbeddings\n",
    "from langchain.text_splitter import CharacterTextSplitter\n",
    "from langchain_weaviate.vectorstores import WeaviateVectorStore"
   ]
  },
  {
   "cell_type": "code",
   "execution_count": 3,
   "id": "4618779d",
   "metadata": {},
   "outputs": [],
   "source": [
    "\n",
    "loader = TextLoader(\"state_of_the_union.txt\")\n",
    "documents = loader.load()\n",
    "text_splitter = CharacterTextSplitter(chunk_size=1000, chunk_overlap=0)\n",
    "docs = text_splitter.split_documents(documents)\n",
    "\n",
    "embeddings = OpenAIEmbeddings()"
   ]
  },
  {
   "cell_type": "code",
   "execution_count": 4,
   "id": "e06f64b7",
   "metadata": {},
   "outputs": [
    {
     "name": "stderr",
     "output_type": "stream",
     "text": [
      "/workspaces/langchain-weaviate/.venv/lib/python3.12/site-packages/langchain_community/embeddings/openai.py:499: PydanticDeprecatedSince20: The `dict` method is deprecated; use `model_dump` instead. Deprecated in Pydantic V2.0 to be removed in V3.0. See Pydantic V2 Migration Guide at https://errors.pydantic.dev/2.5/migration/\n",
      "  response = response.dict()\n",
      "/workspaces/langchain-weaviate/.venv/lib/python3.12/site-packages/pydantic/main.py:979: PydanticDeprecatedSince20: The `dict` method is deprecated; use `model_dump` instead. Deprecated in Pydantic V2.0 to be removed in V3.0. See Pydantic V2 Migration Guide at https://errors.pydantic.dev/2.5/migration/\n",
      "  warnings.warn('The `dict` method is deprecated; use `model_dump` instead.', DeprecationWarning)\n"
     ]
    }
   ],
   "source": [
    "db = WeaviateVectorStore.from_documents(docs, embeddings, weaviate_url=\"http://localhost:8080\", by_text=False)"
   ]
  },
  {
   "cell_type": "code",
   "execution_count": 5,
   "id": "ebc3aa1e",
   "metadata": {},
   "outputs": [],
   "source": [
    "query = \"What did the president say about Ketanji Brown Jackson\"\n",
    "docs = db.similarity_search(query)"
   ]
  },
  {
   "cell_type": "code",
   "execution_count": 6,
   "id": "e0f10e8a",
   "metadata": {},
   "outputs": [
    {
     "name": "stdout",
     "output_type": "stream",
     "text": [
      "Tonight. I call on the Senate to: Pass the Freedom to Vote Act. Pass the John Lewis Voting Rights Act. And while you’re at it, pass the Disclose Act so Americans can know who is funding our elections. \n",
      "\n",
      "Tonight, I’d like to honor someone who has dedicated his life to serve this country: Justice Stephen Breyer—an Army veteran, Constitutional scholar, and retiring Justice of the United States Supreme Court. Justice Breyer, thank you for your service. \n",
      "\n",
      "One of the most serious constitutional responsibilities a President has is nominating someone to serve on the United States Supreme Court. \n",
      "\n",
      "And I did that 4 days ago, when I nominated Circuit Court of Appeals Judge Ketanji Brown Jackson. One of our nation’s top legal minds, who will continue Justice Breyer’s legacy of excellence.\n"
     ]
    }
   ],
   "source": [
    "print(docs[0].page_content)"
   ]
  },
  {
   "cell_type": "markdown",
   "id": "22c14df4",
   "metadata": {},
   "source": [
    "## Authentication"
   ]
  },
  {
   "cell_type": "markdown",
   "id": "e1ec70eb",
   "metadata": {},
   "source": [
    "Weaviate instances have authentication enabled by default. You can use either a username/password combination or API key.  "
   ]
  },
  {
   "cell_type": "code",
   "execution_count": null,
   "id": "14e00fcb",
   "metadata": {},
   "outputs": [],
   "source": [
    "import weaviate\n",
    "\n",
    "client = weaviate.Client(\n",
    "    url=WEAVIATE_URL, auth_client_secret=weaviate.AuthApiKey(WEAVIATE_API_KEY)\n",
    ")\n",
    "\n",
    "# client = weaviate.Client(\n",
    "#     url=WEAVIATE_URL,\n",
    "#     auth_client_secret=weaviate.AuthClientPassword(\n",
    "#         username = \"WCS_USERNAME\",  # Replace w/ your WCS username\n",
    "#         password = \"WCS_PASSWORD\",  # Replace w/ your WCS password\n",
    "#     ),\n",
    "# )\n",
    "\n",
    "vectorstore = Weaviate.from_documents(\n",
    "    documents, embeddings, client=client, by_text=False\n",
    ")"
   ]
  },
  {
   "cell_type": "markdown",
   "id": "26bfd9bc",
   "metadata": {},
   "source": [
    "## Similarity search with score"
   ]
  },
  {
   "cell_type": "markdown",
   "id": "3b286d60",
   "metadata": {},
   "source": [
    "Sometimes we might want to perform the search, but also obtain a relevancy score to know how good is a particular result. \n",
    "The returned distance score is cosine distance. Therefore, a lower score is better."
   ]
  },
  {
   "cell_type": "markdown",
   "id": "b3b4a2f4",
   "metadata": {},
   "source": [
    "docs = db.similarity_search_with_score(query, by_text=False)\n",
    "docs[0]"
   ]
  }
 ],
 "metadata": {
  "kernelspec": {
   "display_name": "Python 3 (ipykernel)",
   "language": "python",
   "name": "python3"
  },
  "language_info": {
   "codemirror_mode": {
    "name": "ipython",
    "version": 3
   },
   "file_extension": ".py",
   "mimetype": "text/x-python",
   "name": "python",
   "nbconvert_exporter": "python",
   "pygments_lexer": "ipython3",
   "version": "3.12.0"
  }
 },
 "nbformat": 4,
 "nbformat_minor": 5
}
